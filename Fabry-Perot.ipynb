{
 "cells": [
  {
   "cell_type": "code",
   "execution_count": 1,
   "metadata": {},
   "outputs": [],
   "source": [
    "import numpy as np\n",
    "from numpy import exp\n",
    "import matplotlib.pyplot as plt\n",
    "from control import tf\n",
    "from matplotlib.widgets import Slider, Button, RadioButtons"
   ]
  },
  {
   "cell_type": "code",
   "execution_count": 12,
   "metadata": {},
   "outputs": [],
   "source": [
    "c = 3e8\n",
    "\n",
    "class cavity():\n",
    "    def __init__(self, L, lamda):\n",
    "        self.loss = False\n",
    "        self.cavity_length = L\n",
    "#         self.input_wavelength = lamda # nm\n",
    "#         self.input_freq = c / self.input_wavelength / 1e-9\n",
    "    \n",
    "    def reflection(self, reflection_coef, freq_bounds):\n",
    "        _min, _max = freq_bounds\n",
    "        r = reflection_coef\n",
    "        self.input_freq = np.linspace(_min, _max, num=1000)\n",
    "        self.freq_mode = c/2/self.cavity_length\n",
    "        alpha = exp(self.input_freq/ self.freq_mode *1j)\n",
    "        self.response = r*(alpha - 1) / (1 - r**2 * alpha)\n",
    "    \n",
    "    "
   ]
  },
  {
   "cell_type": "code",
   "execution_count": 25,
   "metadata": {},
   "outputs": [
    {
     "data": {
      "text/plain": [
       "[<matplotlib.lines.Line2D at 0x206b02b4648>]"
      ]
     },
     "execution_count": 25,
     "metadata": {},
     "output_type": "execute_result"
    },
    {
     "data": {
      "image/png": "[encoded data removed]",
      "text/plain": [
       "<Figure size 432x288 with 1 Axes>"
      ]
     },
     "metadata": {
      "needs_background": "light"
     },
     "output_type": "display_data"
    }
   ],
   "source": [
    "no_loss = cavity(0.1, 400e-9)\n",
    "no_loss.reflection(0.5, [0.01, 10])\n",
    "intensity = np.abs(no_loss.response)**2\n",
    "phase = np.angle(no_loss.response)\n",
    "\n",
    "\n",
    "plt.subplots_adjust(left=0.25, bottom=0.25)\n",
    "plt.semilogx(no_loss.input_freq, intensity)\n",
    "# fig, ax = plt.subplots(212)"
   ]
  },
  {
   "cell_type": "code",
   "execution_count": null,
   "metadata": {},
   "outputs": [],
   "source": []
  }
 ],
 "metadata": {
  "kernelspec": {
   "display_name": "Python 3",
   "language": "python",
   "name": "python3"
  },
  "language_info": {
   "codemirror_mode": {
    "name": "ipython",
    "version": 3
   },
   "file_extension": ".py",
   "mimetype": "text/x-python",
   "name": "python",
   "nbconvert_exporter": "python",
   "pygments_lexer": "ipython3",
   "version": "3.7.7"
  }
 },
 "nbformat": 4,
 "nbformat_minor": 4
}
