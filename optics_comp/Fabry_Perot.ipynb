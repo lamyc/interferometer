{
 "cells": [
  {
   "cell_type": "code",
   "execution_count": 1,
   "metadata": {},
   "outputs": [],
   "source": [
    "import numpy as np\n",
    "from numpy import exp, pi, cos, sqrt, arcsin\n",
    "import matplotlib.pyplot as plt\n",
    "# from control import tf\n",
    "# from matplotlib.widgets import Slider, Button, RadioButtons"
   ]
  },
  {
   "cell_type": "code",
   "execution_count": 32,
   "metadata": {},
   "outputs": [],
   "source": [
    "c = 3e8\n",
    "\n",
    "class Fabry:\n",
    "    class Mirror:\n",
    "        def __init__(self, r, t):\n",
    "            self.r = r\n",
    "            self.t = t\n",
    "\n",
    "        \n",
    "        def coup_matrix(self, phi, k):\n",
    "            '''\n",
    "            phi: float\n",
    "                parameter of mirror displacement from target_length\n",
    "            '''\n",
    "            self.coup_matrix = (np.ones((len(k),1,1))*1j/self.t\n",
    "                                *np.array([[-1, self.r*exp(-2j*phi)],\n",
    "                                           [-self.r*exp(-2j*phi), self.r**2 + self.t**2]]))\n",
    "    \n",
    "    class Space:\n",
    "        def __init__(self, L, n):\n",
    "            self.length = L\n",
    "            self.refrac_index = n\n",
    "            self.optical_dist = L*n\n",
    "        \n",
    "        def update(self, k):\n",
    "            self.coup_matrix = exp(np.array([[1j*self.optical_dist, 0],\n",
    "                                             [0, -1j*self.optical_dist]])*k[:, None, None])\n",
    "            self.coup_matrix[:,0,1] = self.coup_matrix[:,1,0] = 0\n",
    "            \n",
    "        \n",
    "    def __init__(self, L0, radius, lamda=1064, r=(0.8, 1), t=(0.2, 0), m=0.1, refrac_index=1):\n",
    "        '''\n",
    "        L0: float\n",
    "            desired length of the Fabry-Perot Cavity\n",
    "        radius: array_like\n",
    "            radius of curvature of the input mirror and output mirror respectively.\n",
    "        lamda: float\n",
    "            carrier wavelength of the laser, in nm.\n",
    "        r: array_like\n",
    "            reflection coefficient of the input mirror and output mirror respectively, range:0 to 1.\n",
    "        t: array_like\n",
    "            transmission coefficient of the input mirror and output mirror respectively, range:0 to 1.\n",
    "        m: float\n",
    "            phase modulation index of the laser.\n",
    "        refrac_index: float\n",
    "            refractive index of the space within the cavity between two mirrors, >= 1.\n",
    "        '''\n",
    "        r = np.array(r)\n",
    "        t = np.array(t)\n",
    "        radius = np.array(radius)\n",
    "        if np.any(r**2 + t**2 > 1.) :\n",
    "            raise ValueError(\"The square sum of relection coef\"\n",
    "                             \"and transmission coef should not greater than 1.\")\n",
    "        self.mirror_loss = 1 - r**2 + t**2\n",
    "        self.target_length = self.cavity_length = L0\n",
    "        self.reflection_coef = r\n",
    "        self.transmission_coef = t\n",
    "        self.input_wavelength = lamda*1e-9 # nm\n",
    "        self.modulation_index = m\n",
    "        self.mirror1 = self.Mirror(self.reflection_coef[0], self.transmission_coef[0])\n",
    "        self.mirror2 = self.Mirror(self.reflection_coef[1], self.transmission_coef[1])\n",
    "        self.space = self.Space(L0, refrac_index)\n",
    "    \n",
    "    \n",
    "    def cal(self, freq_offset, E_in, tuning=True, modulation=True):\n",
    "        r1, r2 = self.reflection_coef\n",
    "        t1, t2 = self.transmission_coef\n",
    "        L = self.cavity_length \n",
    "        \n",
    "        a0 = E_in\n",
    "        k = 2*pi*freq_offset/c\n",
    "#         a2 =  -t1*t2*exp(-1j*k*L)/(1 - r1*r2*exp(-2j*k*L))\n",
    "#         a4 = (r1 -r2*(r1**2 + t1**2)*exp(-2j*k*L))/(1 - r1*r2*exp(-2j*k*L))\n",
    "        \n",
    "        self.wave_num = k\n",
    "        self.mirror1.coup_matrix(0, k)\n",
    "        self.mirror2.coup_matrix(0, k)\n",
    "        self.space.update(k)\n",
    "        self.coup_matrix = (self.mirror1.coup_matrix @ self.space.coup_matrix @ self.mirror2.coup_matrix)\n",
    "                            \n",
    "        a2 = a0/self.coup_matrix[:,0,0]\n",
    "        a4 = a0*self.coup_matrix[:,1,0]/self.coup_matrix[:,0,0]\n",
    "        self.trans_power = np.abs(a2)**2\n",
    "        self.reflect_power = np.abs(a4)**2\n",
    "        self.circ_power = (np.abs(a0)**2 \\\n",
    "                           * t1**2 \\\n",
    "                           /(1 + r1**2*r2**2 - 2*r1*r2*cos(2*k*L)))\n",
    "        self.FSR = c/2/self.cavity_length\n",
    "        self.FWHM = 2*self.FSR/pi*arcsin((1 - r1*r2)/2/sqrt(r1*r2))\n",
    "        self.finesse = self.FSR/self.FWHM\n",
    "    \n",
    "    def __str__(self):\n",
    "        return \"FSR: {:>12.3e}Hz\\nFWHM: {:>11.3e}Hz\\nfinesse: {:.9f}\".format(fabry.FSR, fabry.FWHM, fabry.finesse)\n",
    "\n",
    "#     def update(new_L):\n",
    "#         self.cavity_length = new_L\n",
    "        \n",
    "#         mirror1.update()\n",
    "#         mirror2.update()\n",
    "#         space.update()"
   ]
  },
  {
   "cell_type": "code",
   "execution_count": 34,
   "metadata": {},
   "outputs": [
    {
     "name": "stdout",
     "output_type": "stream",
     "text": [
      "FSR:    1.410e+07Hz\n",
      "FWHM:   5.185e+05Hz\n",
      "finesse: 27.190715528\n"
     ]
    },
    {
     "data": {
      "image/png": "[encoded data removed]",
      "text/plain": [
       "<Figure size 432x288 with 1 Axes>"
      ]
     },
     "metadata": {
      "needs_background": "light"
     },
     "output_type": "display_data"
    }
   ],
   "source": [
    "if __name__ == '__main__':\n",
    "    r = np.array([0.9, 0.99])\n",
    "    t = sqrt(1 - r**2)\n",
    "    f = np.linspace(-50, 300, 20000) * 1e5\n",
    "    fabry = Fabry(10.64, 0, r=r, t=t)\n",
    "    fabry.cal(f, 1)\n",
    "    names = [\"trans_power\", \"reflect_power\", \"circ_power\"]\n",
    "    for i, name in zip([fabry.trans_power, fabry.reflect_power, fabry.circ_power],\n",
    "                    names):\n",
    "        plt.plot(f/1e3, i, label = name)\n",
    "        plt.xlabel(\"freq offset (kHz)\")\n",
    "        plt.legend()\n",
    "    print(fabry)"
   ]
  }
 ],
 "metadata": {
  "kernelspec": {
   "display_name": "Python 3",
   "language": "python",
   "name": "python3"
  },
  "language_info": {
   "codemirror_mode": {
    "name": "ipython",
    "version": 3
   },
   "file_extension": ".py",
   "mimetype": "text/x-python",
   "name": "python",
   "nbconvert_exporter": "python",
   "pygments_lexer": "ipython3",
   "version": "3.8.5"
  }
 },
 "nbformat": 4,
 "nbformat_minor": 4
}
