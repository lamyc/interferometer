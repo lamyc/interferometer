{
 "cells": [
  {
   "cell_type": "code",
   "execution_count": 1,
   "metadata": {},
   "outputs": [],
   "source": [
    "import numpy as np\n",
    "from numpy import exp, pi, cos, sqrt, arcsin\n",
    "import matplotlib.pyplot as plt\n",
    "from control import tf\n",
    "# from matplotlib.widgets import Slider, Button, RadioButtons"
   ]
  },
  {
   "cell_type": "code",
   "execution_count": 4,
   "metadata": {},
   "outputs": [
    {
     "data": {
      "text/plain": [
       "(1, 'a')"
      ]
     },
     "execution_count": 4,
     "metadata": {},
     "output_type": "execute_result"
    }
   ],
   "source": [
    "def test(a, b):\n",
    "    return (a, b)\n",
    "\n",
    "well = {\"a\": 1, \"b\": \"a\"}\n",
    "test(**well)"
   ]
  },
  {
   "cell_type": "code",
   "execution_count": 79,
   "metadata": {},
   "outputs": [],
   "source": [
    "c = 3e8\n",
    "\n",
    "class Fabry:\n",
    "    def __init__(self, L0, radius, lamda=1064, r=(0.8, 1), t=(0.2, 0), m=0.1, refrac_index=1):\n",
    "        '''\n",
    "        L0: float\n",
    "            desired length of the Fabry-Perot Cavity\n",
    "        radius: array_like\n",
    "            radius of curvature of the input mirror and output mirror respectively.\n",
    "        lamda: float\n",
    "            carrier wavelength of the laser, in nm.\n",
    "        r: array_like\n",
    "            reflection coefficient of the input mirror and output mirror respectively, range:0 to 1.\n",
    "        t: array_like\n",
    "            transmission coefficient of the input mirror and output mirror respectively, range:0 to 1.\n",
    "        m: float\n",
    "            phase modulation index of the laser.\n",
    "        refrac_index: float\n",
    "            refractive index of the space within the cavity between two mirrors, >= 1.\n",
    "        '''\n",
    "        r = np.array(r)\n",
    "        t = np.array(t)\n",
    "        radius = np.array(radius)\n",
    "        if np.any(r**2 + t**2 > 1.) :\n",
    "            raise ValueError(\"The square sum of relection coef\"\n",
    "                             \"and transmission coef should not greater than 1.\")\n",
    "        self.mirror_loss = 1 - r**2 + t**2\n",
    "        self.target_length = self.cavity_length = L0\n",
    "        self.reflection_coef = r\n",
    "        self.transmssion_coef = t\n",
    "        self.input_wavelength = lamda*1e-9 # nm\n",
    "        self.modulation_index = m\n",
    "    \n",
    "    \n",
    "    class Mirror:\n",
    "        def __init__(self, r, t, m):\n",
    "            self.reflection_coef = r\n",
    "            self.transmssion_coef = t\n",
    "            self.coup_matrix = np.array([[],\n",
    "                                         []])\n",
    "    \n",
    "    \n",
    "    mirror1 = Mirror(self.reflection_coef[0], self.transmssion_coef[0], self.modulation_index)\n",
    "    mirror2 = Mirror(self.reflection_coef[1], self.transmssion_coef[1], self.modulation_index)\n",
    "    \n",
    "    class Space:\n",
    "        def __init__(self):\n",
    "            self.length = super().cavity_length\n",
    "            self.refrac_index = super().refrac_index\n",
    "            self.coup_matrix = np.array([[],\n",
    "                                         []])\n",
    "    \n",
    "    space = Space()\n",
    "    \n",
    "    def cal(self, freq_offset, E_in, tuning=True, modulation=True):\n",
    "        r1, r2 = self.reflection_coef\n",
    "        t1, t2 = self.transmssion_coef\n",
    "        L = self.cavity_length \n",
    "        \n",
    "        a0 = E_in\n",
    "        k = 2*pi/self.input_wavelength + 2*pi*freq_offset/c\n",
    "        a2 =  -t1*t2*exp(-1j*k*L)/(1 - r1*r2*exp(-2j*k*L))\n",
    "        a4 = (r1 -r2*(r1**2 + t1**2)*exp(-2j*k*L))/(1 - r1*r2*exp(-2j*k*L))\n",
    "        \n",
    "        self.trans_power = np.abs(a2)**2\n",
    "        self.reflect_power = np.abs(a4)**2\n",
    "        self.circ_power = (np.abs(a0)**2 \n",
    "                           * t1**2\n",
    "                           /(1 + r1**2*r2**2 - 2*r1*r2*cos(2*k*L)))\n",
    "    \n",
    "    def update(delta_L):\n",
    "        self.cavity_length += delta_L\n",
    "        self.space_matrix = np.array([[exp(-1j*k*self.cavity_length), 0],\n",
    "                                      [0, exp(-1j*k*self.cavity_length)]])\n",
    "        "
   ]
  },
  {
   "cell_type": "code",
   "execution_count": 49,
   "metadata": {},
   "outputs": [
    {
     "data": {
      "text/plain": [
       "array([53.20000001, 53.20000001, 53.20000001, ..., 53.19999987,\n",
       "       53.19999987, 53.19999987])"
      ]
     },
     "execution_count": 49,
     "metadata": {},
     "output_type": "execute_result"
    }
   ],
   "source": [
    "k = 2*pi/1064e-9 + 2*pi*f/c\n",
    "1e8*pi/k"
   ]
  },
  {
   "cell_type": "code",
   "execution_count": 78,
   "metadata": {},
   "outputs": [
    {
     "data": {
      "image/png": "[encoded data removed]",
      "text/plain": [
       "<Figure size 432x288 with 1 Axes>"
      ]
     },
     "metadata": {
      "needs_background": "light"
     },
     "output_type": "display_data"
    }
   ],
   "source": [
    "if __name__ == '__main__':\n",
    "    r = np.array([0.9, 0.9])\n",
    "    t = sqrt(1 - r**2)\n",
    "    f = np.linspace(-50, 300, 20000) * 1e3\n",
    "    fabry = Fabry(1064, 1, r=r, t=t)\n",
    "    fabry.cal(0, 1, f)\n",
    "    names = [\"trans_power\", \"reflect_power\", \"circ_power\"]\n",
    "    for i, name in zip([fabry.trans_power, fabry.reflect_power, fabry.circ_power],\n",
    "                    names):\n",
    "        plt.plot(f/1e3, i, label = name)\n",
    "        plt.xlabel(\"freq offset (kHz)\")\n",
    "        plt.legend()"
   ]
  },
  {
   "cell_type": "code",
   "execution_count": null,
   "metadata": {},
   "outputs": [],
   "source": []
  }
 ],
 "metadata": {
  "kernelspec": {
   "display_name": "Python 3",
   "language": "python",
   "name": "python3"
  },
  "language_info": {
   "codemirror_mode": {
    "name": "ipython",
    "version": 3
   },
   "file_extension": ".py",
   "mimetype": "text/x-python",
   "name": "python",
   "nbconvert_exporter": "python",
   "pygments_lexer": "ipython3",
   "version": "3.8.5"
  }
 },
 "nbformat": 4,
 "nbformat_minor": 4
}
